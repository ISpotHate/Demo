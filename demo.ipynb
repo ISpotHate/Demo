{
  "nbformat": 4,
  "nbformat_minor": 0,
  "metadata": {
    "colab": {
      "name": "demo.ipynb",
      "provenance": []
    },
    "kernelspec": {
      "name": "python3",
      "display_name": "Python 3"
    },
    "language_info": {
      "name": "python"
    }
  },
  "cells": [
    {
      "cell_type": "code",
      "execution_count": null,
      "metadata": {
        "id": "D_zRERUzX3dA"
      },
      "outputs": [],
      "source": [
        "# Start prototyping with just two lines of code! \n",
        "data = requests.get(f'http://ispothate.eastus.cloudapp.azure.com:8000/ishate?text={text}').json()\n",
        "df_all = pd.DataFrame.from_dict(data, orient='index', columns=['Result'])\n",
        "df_all"
      ]
    }
  ]
}